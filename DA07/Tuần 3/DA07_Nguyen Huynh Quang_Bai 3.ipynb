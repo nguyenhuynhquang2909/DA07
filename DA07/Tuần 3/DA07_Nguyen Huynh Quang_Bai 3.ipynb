{
 "cells": [
  {
   "cell_type": "code",
   "execution_count": 3,
   "id": "e92ab450",
   "metadata": {},
   "outputs": [
    {
     "name": "stdout",
     "output_type": "stream",
     "text": [
      "Nhập số tiền lương của bạn: 3000.0\n",
      "Nhập số tiền phụ cấp của bạn: 1000.5\n",
      "Mức hưởng BXH của bạn là  600.0749999999999\n",
      "Số tiền bạn phải đóng cho thuế PIT là  800.1\n"
     ]
    }
   ],
   "source": [
    "def tinh_tien(ti_le_phan_tram):\n",
    "    luong = float(input(\"Nhập số tiền lương của bạn: \"))\n",
    "    phu_cap = float(input(\"Nhập số tiền phụ cấp của bạn: \"));\n",
    "    BHXH = (luong + phu_cap) * ti_le_phan_tram\n",
    "    PIT = (luong + phu_cap) * 0.2\n",
    "    print(\"Mức hưởng BXH của bạn là \", BHXH)\n",
    "    print(\"Số tiền bạn phải đóng cho thuế PIT là \", PIT)\n",
    "tinh_tien(0.15)\n",
    "    "
   ]
  },
  {
   "cell_type": "code",
   "execution_count": null,
   "id": "1dff5546",
   "metadata": {},
   "outputs": [],
   "source": []
  },
  {
   "cell_type": "code",
   "execution_count": null,
   "id": "a2f4c457",
   "metadata": {},
   "outputs": [],
   "source": []
  }
 ],
 "metadata": {
  "kernelspec": {
   "display_name": "Python 3 (ipykernel)",
   "language": "python",
   "name": "python3"
  },
  "language_info": {
   "codemirror_mode": {
    "name": "ipython",
    "version": 3
   },
   "file_extension": ".py",
   "mimetype": "text/x-python",
   "name": "python",
   "nbconvert_exporter": "python",
   "pygments_lexer": "ipython3",
   "version": "3.9.13"
  }
 },
 "nbformat": 4,
 "nbformat_minor": 5
}
