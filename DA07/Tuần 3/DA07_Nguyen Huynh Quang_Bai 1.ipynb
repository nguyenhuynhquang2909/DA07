{
 "cells": [
  {
   "cell_type": "code",
   "execution_count": 3,
   "id": "a7e556ea",
   "metadata": {},
   "outputs": [
    {
     "name": "stdout",
     "output_type": "stream",
     "text": [
      "Giá cổ phiếu ngày 0 là 10.1 không tăng quá 7% và giảm quá 5% so với 9.5 là giá hôm trước => giữ nguyên\n",
      "Giá cổ phiếu ngày 1 là 9.5 giảm hơn 5% so với  10.1 là giá hôm trước => bán\n",
      "Giá cổ phiếu ngày 2 là 10.7 tăng hơn 7% so với  9.5  là giá hôm trước => mua\n",
      "Giá cổ phiếu ngày 3 là 10.8 không tăng quá 7% và giảm quá 5% so với 10.7 là giá hôm trước => giữ nguyên\n",
      "Giá cổ phiếu ngày 4 là 10.6 không tăng quá 7% và giảm quá 5% so với 10.8 là giá hôm trước => giữ nguyên\n",
      "Giá cổ phiếu ngày 5 là 10.0 giảm hơn 5% so với  10.6 là giá hôm trước => bán\n",
      "Giá cổ phiếu ngày 6 là 10.2 không tăng quá 7% và giảm quá 5% so với 10.0 là giá hôm trước => giữ nguyên\n"
     ]
    }
   ],
   "source": [
    "gia_theo_ngay = [10.1, 9.5, 10.7, 10.8, 10.6, 10.0, 10.2, 9.5]\n",
    "for i in range(len(gia_theo_ngay) - 1):\n",
    "    # giá cổ phiếu tăng 7%\n",
    "    tang = (gia_theo_ngay[i] * 7) / 100\n",
    "    # gía cổ phêisu giảm 5%\n",
    "    giam = (gia_theo_ngay[i] * 5) / 100\n",
    "    # so sánh giá cổ phiếu và đưa ra quyết định\n",
    "    if (gia_theo_ngay[i]  > (gia_theo_ngay[i - 1] + tang)):\n",
    "        print(\"Giá cổ phiếu ngày\", i,\"là\",gia_theo_ngay[i], \"tăng hơn 7% so với \", gia_theo_ngay[i - 1], \" là giá hôm trước => mua\")\n",
    "    elif (gia_theo_ngay[i]  < (gia_theo_ngay[i - 1] - giam) ):\n",
    "        print(\"Giá cổ phiếu ngày\", i, \"là\",gia_theo_ngay[i], \"giảm hơn 5% so với \", gia_theo_ngay[i - 1], \"là giá hôm trước => bán\")\n",
    "    else:\n",
    "        print(\"Giá cổ phiếu ngày\", i, \"là\", gia_theo_ngay[i] , \"không tăng quá 7% và giảm quá 5% so với\", gia_theo_ngay[i - 1] , \"là giá hôm trước => giữ nguyên\" )                                           "
   ]
  },
  {
   "cell_type": "code",
   "execution_count": null,
   "id": "e71ee6ca",
   "metadata": {},
   "outputs": [],
   "source": []
  }
 ],
 "metadata": {
  "kernelspec": {
   "display_name": "Python 3 (ipykernel)",
   "language": "python",
   "name": "python3"
  },
  "language_info": {
   "codemirror_mode": {
    "name": "ipython",
    "version": 3
   },
   "file_extension": ".py",
   "mimetype": "text/x-python",
   "name": "python",
   "nbconvert_exporter": "python",
   "pygments_lexer": "ipython3",
   "version": "3.9.13"
  }
 },
 "nbformat": 4,
 "nbformat_minor": 5
}
