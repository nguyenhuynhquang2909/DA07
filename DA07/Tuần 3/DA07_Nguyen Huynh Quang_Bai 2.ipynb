{
 "cells": [
  {
   "cell_type": "code",
   "execution_count": 3,
   "id": "5048e1ed",
   "metadata": {},
   "outputs": [
    {
     "name": "stdout",
     "output_type": "stream",
     "text": [
      "Nhập số lượng phần tử: 4\n",
      "Nhập các số vào list: 1\n",
      "Nhập các số vào list: 4\n",
      "Nhập các số vào list: 6\n",
      "Nhập các số vào list: 7\n",
      "[1, 4, 6, 7]\n",
      "1 không phải là số nguyên tố\n",
      "4 không phải là số nguyên tố\n",
      "6 không phải là số nguyên tố\n",
      "7 là số nguyên tố\n"
     ]
    }
   ],
   "source": [
    "# Tạo 1 list rỗng \n",
    "lst = [ ]\n",
    "# Nhận input từ người dùng\n",
    "n = int(input(\"Nhập số lượng phần tử: \"))\n",
    "for i in range(0, n):\n",
    "    ptu = int(input(\"Nhập các số vào list: \"))\n",
    "    # Thêm các phần tử vào list\n",
    "    lst.append(ptu)\n",
    "print(lst)\n",
    "# Kiểm tra số nguyên tố\n",
    "for num in lst:\n",
    "    if num > 1:\n",
    "        for i in range(2, num):\n",
    "            if num % i == 0:\n",
    "                print(num, \"không phải là số nguyên tố\")\n",
    "                break\n",
    "            else:\n",
    "                print(num, \"là số nguyên tố\")\n",
    "                break\n",
    "            \n",
    "    else:\n",
    "        print(num, \"không phải là số nguyên tố\")\n",
    "       "
   ]
  },
  {
   "cell_type": "code",
   "execution_count": null,
   "id": "83ed134a",
   "metadata": {},
   "outputs": [],
   "source": []
  },
  {
   "cell_type": "code",
   "execution_count": null,
   "id": "c4746778",
   "metadata": {},
   "outputs": [],
   "source": []
  }
 ],
 "metadata": {
  "kernelspec": {
   "display_name": "Python 3 (ipykernel)",
   "language": "python",
   "name": "python3"
  },
  "language_info": {
   "codemirror_mode": {
    "name": "ipython",
    "version": 3
   },
   "file_extension": ".py",
   "mimetype": "text/x-python",
   "name": "python",
   "nbconvert_exporter": "python",
   "pygments_lexer": "ipython3",
   "version": "3.9.13"
  }
 },
 "nbformat": 4,
 "nbformat_minor": 5
}
